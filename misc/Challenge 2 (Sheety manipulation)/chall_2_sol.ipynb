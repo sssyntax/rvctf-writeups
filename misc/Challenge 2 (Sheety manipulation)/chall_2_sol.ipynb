{
 "cells": [
  {
   "cell_type": "code",
   "execution_count": null,
   "id": "09b67b86",
   "metadata": {},
   "outputs": [],
   "source": [
    "import csv\n",
    "import pandas as pd"
   ]
  },
  {
   "cell_type": "code",
   "execution_count": null,
   "id": "ed108ec0",
   "metadata": {},
   "outputs": [],
   "source": [
    "file = pd.read_csv('sheet2.csv')\n",
    "clean = file.dropna()"
   ]
  },
  {
   "cell_type": "code",
   "execution_count": null,
   "id": "42d2314c",
   "metadata": {},
   "outputs": [],
   "source": [
    "# byte to string\n",
    "file['byte'] = file['byte'].astype(str)\n",
    "\n",
    "# extract lsbs\n",
    "string = ''.join(file['byte'].str[-1])\n",
    "print(string)"
   ]
  }
 ],
 "metadata": {
  "kernelspec": {
   "display_name": "Python 3",
   "language": "python",
   "name": "python3"
  },
  "language_info": {
   "name": "python",
   "version": "3.9.6"
  }
 },
 "nbformat": 4,
 "nbformat_minor": 5
}
