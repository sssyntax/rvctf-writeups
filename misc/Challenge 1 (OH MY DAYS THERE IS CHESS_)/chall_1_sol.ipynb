{
 "cells": [
  {
   "cell_type": "code",
   "execution_count": 4,
   "id": "09ac9c1c",
   "metadata": {},
   "outputs": [
    {
     "name": "stdout",
     "output_type": "stream",
     "text": [
      "Defaulting to user installation because normal site-packages is not writeable\n",
      "Collecting python-chess\n",
      "  Downloading python_chess-1.999-py3-none-any.whl.metadata (776 bytes)\n",
      "Collecting chess<2,>=1 (from python-chess)\n",
      "  Downloading chess-1.11.2.tar.gz (6.1 MB)\n",
      "\u001b[2K     \u001b[90m━━━━━━━━━━━━━━━━━━━━━━━━━━━━━━━━━━━━━━━━\u001b[0m \u001b[32m6.1/6.1 MB\u001b[0m \u001b[31m11.2 MB/s\u001b[0m eta \u001b[36m0:00:00\u001b[0ma \u001b[36m0:00:01\u001b[0m\n",
      "\u001b[?25h  Preparing metadata (setup.py) ... \u001b[?25ldone\n",
      "\u001b[?25hDownloading python_chess-1.999-py3-none-any.whl (1.4 kB)\n",
      "Building wheels for collected packages: chess\n",
      "  Building wheel for chess (setup.py) ... \u001b[?25ldone\n",
      "\u001b[?25h  Created wheel for chess: filename=chess-1.11.2-py3-none-any.whl size=147789 sha256=7a8137e09ed5490d37bf44b1f15958e8f8f57d31eadaa75d503d4b475c127c42\n",
      "  Stored in directory: /Users/tkrobot/Library/Caches/pip/wheels/66/12/21/bbe9160a0aa061440aaa3482bdbf4a91b5690473e63b123e1c\n",
      "Successfully built chess\n",
      "Installing collected packages: chess, python-chess\n",
      "Successfully installed chess-1.11.2 python-chess-1.999\n",
      "Note: you may need to restart the kernel to use updated packages.\n"
     ]
    }
   ],
   "source": [
    "pip install python-chess"
   ]
  },
  {
   "cell_type": "code",
   "execution_count": 5,
   "id": "da2e7298",
   "metadata": {},
   "outputs": [
    {
     "name": "stdout",
     "output_type": "stream",
     "text": [
      "Board 1 positions: ['a1', 'c1', 'd1', 'h1', 'a2', 'b2', 'e2', 'f2', 'b3', 'c3', 'd3', 'e3', 'f3', 'g3', 'h3', 'a4', 'b4', 'd4', 'f4', 'g4', 'h4', 'a5', 'b5', 'c5', 'd5', 'g5', 'h5', 'a6', 'b6', 'c6', 'e6', 'f6', 'g6', 'h6', 'b7', 'c7', 'd7', 'f7', 'g7', 'b8', 'c8', 'e8', 'f8', 'g8']\n",
      "Board 2 positions: ['c1', 'e1', 'g1', 'b2', 'c2', 'e2', 'a3', 'h3', 'h5', 'a6', 'a7', 'd8', 'e8']\n",
      "Board 3 positions: ['a1', 'c1', 'f1', 'g1', 'h1', 'a2', 'd2', 'f2', 'h2', 'a3', 'e3', 'g3', 'h3', 'c4', 'f4', 'h4', 'a5', 'b5', 'c5', 'f5', 'h5', 'a6', 'b6', 'd6', 'e6', 'h6', 'a7', 'c7', 'd7', 'e7', 'h7', 'a8', 'd8', 'e8', 'f8', 'g8']\n",
      "Board 4 positions: ['c1', 'e1', 'c2', 'd2', 'e2', 'h2', 'e3', 'a4', 'd4', 'g4', 'b5', 'c5', 'a6', 'b6', 'a7', 'b7', 'e7', 'f7', 'h7', 'a8', 'g8']\n",
      "Board 5 positions: ['b1', 'c1', 'd1', 'e1', 'g1', 'h1', 'a2', 'b2', 'e2', 'f2', 'g2', 'h2', 'a3', 'b3', 'd3', 'f3', 'a4', 'c4', 'd4', 'e4', 'f4', 'g4', 'h4', 'f5', 'g5', 'b6', 'e6', 'a7', 'b7', 'e7', 'f7', 'g7', 'c8', 'g8', 'h8']\n",
      "Board 6 positions: ['b1', 'f1', 'g1', 'b2', 'c2', 'f2', 'h2', 'a3', 'c3', 'b4', 'c4', 'e4', 'f4', 'g4', 'h4', 'a5', 'b5', 'd5', 'e5', 'g5', 'b6', 'd6', 'e6', 'f6', 'g6', 'h6', 'a7', 'b7', 'c7', 'd7', 'h7', 'b8', 'c8', 'd8', 'e8', 'f8', 'g8']\n",
      "Board 7 positions: ['a1', 'b1', 'c1', 'e1', 'f1', 'h1', 'a2', 'e2', 'f2', 'g2', 'h2', 'a3', 'c3', 'e3', 'f3', 'a4', 'b4', 'd4', 'e4', 'g4', 'h4', 'b5', 'c5', 'd5', 'g5', 'h5', 'a6', 'd6', 'f6', 'g6', 'd7', 'f7', 'g7', 'a8', 'b8', 'c8', 'd8', 'e8', 'f8', 'h8']\n",
      "Board 8 positions: ['a1', 'c1', 'd1', 'f2', 'a3', 'd3', 'a4', 'e4', 'h4', 'b5', 'g5', 'h6', 'c7', 'e7', 'g7', 'b8', 'c8']\n",
      "Board 9 positions: ['a2', 'f2', 'c3', 'e3', 'f3', 'g3', 'd4', 'f4', 'h4', 'g5', 'b6', 'e6', 'a7', 'b7', 'c7', 'd7', 'e7', 'f7', 'c8', 'e8']\n",
      "Board 10 positions: ['a1', 'c1', 'd1', 'e1', 'f1', 'g1', 'a2', 'b2', 'd2', 'e2', 'f2', 'g2', 'h2', 'a3', 'b3', 'd3', 'f3', 'g3', 'h3', 'b4', 'e4', 'h4', 'a5', 'b5', 'c5', 'f5', 'h5', 'a6', 'c6', 'e6', 'f6', 'g6', 'h6', 'a7', 'c7', 'd7', 'e7', 'g7', 'h7', 'a8', 'b8', 'd8', 'e8', 'f8']\n",
      "Board 11 positions: ['b1', 'd1', 'e1', 'f1', 'g1', 'h1', 'a2', 'b2', 'd2', 'e2', 'f2', 'g2', 'h2', 'a3', 'b3', 'c3', 'e3', 'h3', 'a4', 'b4', 'e4', 'f4', 'g4', 'c5', 'e5', 'f5', 'g5', 'h5', 'a6', 'b6', 'd6', 'e6', 'f6', 'g6', 'a7', 'b7', 'c7', 'd7', 'e7', 'f7', 'g7', 'c8', 'd8', 'f8']\n",
      "Board 12 positions: ['a1', 'b1', 'd1', 'g1', 'h2', 'c3', 'd3', 'f3', 'g3', 'b4', 'f4', 'g4', 'h4', 'b5', 'g5', 'h5', 'd6', 'e6', 'h6', 'e7', 'g7', 'h7', 'e8']\n",
      "Board 13 positions: ['a1', 'd1', 'e1', 'h1', 'a2', 'e2', 'f2', 'g2', 'h2', 'c3', 'e3', 'g3', 'a4', 'c4', 'd4', 'e4', 'f4', 'g4', 'h4', 'a5', 'c5', 'd5', 'f5', 'h5', 'c6', 'd6', 'e6', 'f6', 'b7', 'd7', 'b8', 'e8', 'f8', 'g8', 'h8']\n",
      "Board 14 positions: ['a1', 'h1', 'b2', 'f2', 'g2', 'b3', 'e3', 'h3', 'g4', 'c5', 'e5', 'f5', 'g5', 'h5', 'a6', 'c6', 'f6', 'g6', 'a7', 'e7', 'f8']\n",
      "Board 15 positions: ['b1', 'c1', 'c2', 'd2', 'h2', 'c3', 'g3', 'h3', 'e4', 'h4', 'c5', 'g5', 'd6', 'e6', 'h6', 'a7', 'e7', 'a8', 'c8', 'h8']\n",
      "Board 16 positions: ['d1', 'g1', 'h1', 'a2', 'b2', 'e2', 'f2', 'g2', 'h2', 'c3', 'd3', 'e3', 'f3', 'h3', 'a4', 'b4', 'd4', 'e4', 'f4', 'a5', 'b5', 'd5', 'f5', 'g5', 'a6', 'b6', 'c6', 'e6', 'g6', 'h6', 'a7', 'b7', 'c7', 'd7', 'f7', 'g7', 'd8', 'e8', 'f8', 'h8']\n",
      "Board 17 positions: ['c1', 'e1', 'c2', 'b3', 'g3', 'b4', 'd4', 'b5', 'c5', 'g5', 'g6', 'h7', 'a8', 'h8']\n",
      "Board 18 positions: ['a1', 'c1', 'd1', 'e1', 'h1', 'a2', 'd2', 'e2', 'g2', 'a3', 'e3', 'g3', 'a4', 'd4', 'e4', 'g4', 'b5', 'c5', 'h5', 'a6', 'f6', 'c7', 'e7', 'c8', 'd8', 'e8', 'h8']\n",
      "Board 19 positions: ['a1', 'b1', 'c1', 'd1', 'e1', 'g1', 'h1', 'a2', 'c2', 'd2', 'g2', 'h2', 'c3', 'd3', 'f3', 'c4', 'd4', 'g4', 'b5', 'c5', 'e5', 'g5', 'h5', 'a6', 'b6', 'c6', 'd6', 'f6', 'h6', 'a7', 'b7', 'd7', 'e7', 'g7', 'h7', 'f8']\n",
      "Board 20 positions: ['a1', 'b1', 'e1', 'f1', 'c2', 'h2', 'a3', 'd3', 'e3', 'f3', 'g3', 'h3', 'a4', 'c4', 'a5', 'b5', 'c5', 'd5', 'e5', 'f5', 'h5', 'b6', 'c6', 'e6', 'f6', 'g6', 'a7', 'b7', 'c7', 'f7', 'h7', 'a8', 'd8', 'e8', 'g8', 'h8']\n",
      "Board 21 positions: ['b2', 'c2', 'f2', 'e3', 'g3', 'a4', 'd4', 'f4', 'a5', 'b5', 'c5', 'd5', 'e5', 'c6', 'e6', 'f7', 'h7', 'a8', 'c8']\n",
      "Board 22 positions: ['c1', 'h1', 'a2', 'c2', 'd2', 'f2', 'g2', 'h2', 'b3', 'f3', 'a4', 'f4', 'd5', 'g5', 'a6', 'f6', 'h6', 'a7', 'd7', 'h7', 'a8', 'b8', 'e8', 'g8']\n",
      "Board 23 positions: ['a1', 'c1', 'd1', 'f1', 'g1', 'a2', 'c2', 'e2', 'f2', 'g2', 'h2', 'a3', 'b3', 'e3', 'f3', 'g3', 'a4', 'b4', 'd4', 'f4', 'h4', 'a5', 'e5', 'f5', 'h5', 'a6', 'b6', 'c6', 'f6', 'g6', 'h6', 'a7', 'd7', 'e7', 'c8', 'e8', 'h8']\n",
      "a1c1d1h1a2b2e2f2b3c3d3e3f3g3h3a4b4d4f4g4h4a5b5c5d5g5h5a6b6c6e6f6g6h6b7c7d7f7g7b8c8e8f8g8c1e1g1b2c2e2a3h3h5a6a7d8e8a1c1f1g1h1a2d2f2h2a3e3g3h3c4f4h4a5b5c5f5h5a6b6d6e6h6a7c7d7e7h7a8d8e8f8g8c1e1c2d2e2h2e3a4d4g4b5c5a6b6a7b7e7f7h7a8g8b1c1d1e1g1h1a2b2e2f2g2h2a3b3d3f3a4c4d4e4f4g4h4f5g5b6e6a7b7e7f7g7c8g8h8b1f1g1b2c2f2h2a3c3b4c4e4f4g4h4a5b5d5e5g5b6d6e6f6g6h6a7b7c7d7h7b8c8d8e8f8g8a1b1c1e1f1h1a2e2f2g2h2a3c3e3f3a4b4d4e4g4h4b5c5d5g5h5a6d6f6g6d7f7g7a8b8c8d8e8f8h8a1c1d1f2a3d3a4e4h4b5g5h6c7e7g7b8c8a2f2c3e3f3g3d4f4h4g5b6e6a7b7c7d7e7f7c8e8a1c1d1e1f1g1a2b2d2e2f2g2h2a3b3d3f3g3h3b4e4h4a5b5c5f5h5a6c6e6f6g6h6a7c7d7e7g7h7a8b8d8e8f8b1d1e1f1g1h1a2b2d2e2f2g2h2a3b3c3e3h3a4b4e4f4g4c5e5f5g5h5a6b6d6e6f6g6a7b7c7d7e7f7g7c8d8f8a1b1d1g1h2c3d3f3g3b4f4g4h4b5g5h5d6e6h6e7g7h7e8a1d1e1h1a2e2f2g2h2c3e3g3a4c4d4e4f4g4h4a5c5d5f5h5c6d6e6f6b7d7b8e8f8g8h8a1h1b2f2g2b3e3h3g4c5e5f5g5h5a6c6f6g6a7e7f8b1c1c2d2h2c3g3h3e4h4c5g5d6e6h6a7e7a8c8h8d1g1h1a2b2e2f2g2h2c3d3e3f3h3a4b4d4e4f4a5b5d5f5g5a6b6c6e6g6h6a7b7c7d7f7g7d8e8f8h8c1e1c2b3g3b4d4b5c5g5g6h7a8h8a1c1d1e1h1a2d2e2g2a3e3g3a4d4e4g4b5c5h5a6f6c7e7c8d8e8h8a1b1c1d1e1g1h1a2c2d2g2h2c3d3f3c4d4g4b5c5e5g5h5a6b6c6d6f6h6a7b7d7e7g7h7f8a1b1e1f1c2h2a3d3e3f3g3h3a4c4a5b5c5d5e5f5h5b6c6e6f6g6a7b7c7f7h7a8d8e8g8h8b2c2f2e3g3a4d4f4a5b5c5d5e5c6e6f7h7a8c8c1h1a2c2d2f2g2h2b3f3a4f4d5g5a6f6h6a7d7h7a8b8e8g8a1c1d1f1g1a2c2e2f2g2h2a3b3e3f3g3a4b4d4f4h4a5e5f5h5a6b6c6f6g6h6a7d7e7c8e8h8\n"
     ]
    }
   ],
   "source": [
    "# trying to extract piece positions from FEN strings\n",
    "import chess\n",
    "import pandas as pd\n",
    "\n",
    "# FEN positions (first field only)\n",
    "fen_boards = [\n",
    "    \"1PB1nqP1/1PNp1pP1/rPP1PBpp/rRNB2Rp/pP1b1RNn/1RPpbPpp/rR2rn2/P1BP3B\",\n",
    "    \"3Bp3/P7/n7/7r/8/r6q/1pp1R3/2q1r1n1\",\n",
    "    \"n2pQnb1/B1NPn2R/Bp1Pp2n/QRP2P1p/2R2P1p/b3n1NP/q2p1q1r/P1P2nNP\",\n",
    "    \"P5p1/pP2PP1B/Pp6/1Qr5/p2b2b1/4r3/2PNp2p/2q1n3\",\n",
    "    \"2p3rB/qp2NrP1/1n2P3/5PR1/P1bbPpPr/rR1B1Q2/pB2PpPb/1NPPP1np\",\n",
    "    \"1nRRbpp1/Ppbp3P/1R1rpPPp/pP1PQ1n1/1rP1RQPB/P1p5/1Nr2Q1n/1b3bp1\",\n",
    "    \"PppppN1q/3p1Qp1/r2p1Pp1/1Ppq2RQ/nP1rN1NQ/P1P1Bb2/p3NPpp/pPP1PP1R\",\n",
    "    \"1BP5/2P1P1r1/7R/1N4Q1/P3R2P/P2R4/5R2/p1pp4\",\n",
    "    \"2n1B3/qprnPp2/1B2N3/6p1/3P1p1R/2B1PpB1/N4N2/8\",\n",
    "    \"Pp1qpp2/b1PPb1Pr/r1P1ppNp/rPP2R1p/1P2P2P/rP1Q1Rrp/pP1nPpBp/b1rpppP1\",\n",
    "    \"2Pp1B2/RpnPNPp1/PR1rnPR1/2q1Bppn/bp2rPR1/Nrp1n2p/pP1PNprn/1p1RRpbP\",\n",
    "    \"4p3/4P1pb/3pR2R/1p4Bp/1p3PBP/2PP1rr1/7P/pQ1p2p1\",\n",
    "    \"1B2Pppp/1p1P4/2pPBR2/r1rn1N1P/B1PpbpqQ/2P1n1p1/P3pqnb/p2RP2N\",\n",
    "    \"5p2/B3n3/n1P2Pb1/2n1pPrn/6P1/1P2P2R/1R3Rp1/P6B\",\n",
    "    \"R1p4p/r3p3/3pB2R/2N3P1/4q2B/2p3Pn/2pR3P/1PP5\",\n",
    "    \"3PnP1n/RbpR1rp1/NPp1R1NN/RP1r1Pn1/pr1pBp2/2pprb1P/NR2pPpr/3P2bR\",\n",
    "    \"P6Q/7q/6p1/1NB3P1/1p1q4/1P4N1/2p5/2r1n3\",\n",
    "    \"2pPP2p/2r1P3/p4p2/1pn4P/p2pp1R1/r3q1P1/P2PP1p1/P1ppP2p\",\n",
    "    \"5P2/PR1pB1qP/nPPB1P1Q/1Rp1P1pP/2rr2p1/2pr1b2/p1QR2RN/pPqPr1pp\",\n",
    "    \"p2bq1pp/pnP2N1N/1bb1pqb1/nPnPRP1P/P1P5/n2ppPrB/2p4P/pq2QB2\",\n",
    "    \"p1r5/5p1p/2p1B3/rbPNR3/R2p1R2/4p1Q1/1PR2P2/8\",\n",
    "    \"rp2n1P1/P2p3N/P4B1P/3n2p1/P4p2/1b3n2/Q1PP1ppn/2p4P\",\n",
    "    \"2R1q2n/R2Pb3/ppb2bpN/n3pb1r/pp1p1b1q/rN2NnB1/Q1p1rqpp/r1nb1bb1\"\n",
    "]\n",
    "\n",
    "def extract_piece_positions(fen_piece_placement):\n",
    "    board = chess.Board(fen_piece_placement + \" w - - 0 1\")\n",
    "    positions = {\"White\": {}, \"Black\": {}}\n",
    "    for square in chess.SQUARES:\n",
    "        piece = board.piece_at(square)\n",
    "        if piece:\n",
    "            color = \"White\" if piece.color == chess.WHITE else \"Black\"\n",
    "            piece_type = piece.symbol().upper() if piece.color == chess.WHITE else piece.symbol().lower()\n",
    "            if piece_type not in positions[color]:\n",
    "                positions[color][piece_type] = []\n",
    "            positions[color][piece_type].append(chess.square_name(square))\n",
    "    return positions\n",
    "\n",
    "def extract_flat_positions(fen_piece_placement):\n",
    "    board = chess.Board(fen_piece_placement + \" w - - 0 1\")\n",
    "    return [chess.square_name(square) for square in chess.SQUARES if board.piece_at(square)]\n",
    "\n",
    "# Get positions for each board\n",
    "all_positions = [extract_flat_positions(fen) for fen in fen_boards]\n",
    "\n",
    "# Print the list of lists\n",
    "for i, pos in enumerate(all_positions):\n",
    "    print(f\"Board {i+1} positions: {pos}\")\n",
    "\n",
    "all_positions = []\n",
    "\n",
    "for fen in fen_boards:\n",
    "    board = chess.Board(fen + \" w - - 0 1\")\n",
    "    all_positions.extend([\n",
    "        chess.square_name(square)\n",
    "        for square in chess.SQUARES\n",
    "        if board.piece_at(square)\n",
    "    ])\n",
    "\n",
    "strg = \"\"\n",
    "for i in all_positions:\n",
    "  strg+=i\n",
    "\n",
    "print(strg)"
   ]
  },
  {
   "cell_type": "code",
   "execution_count": 2,
   "id": "1979d566",
   "metadata": {},
   "outputs": [
    {
     "name": "stdout",
     "output_type": "stream",
     "text": [
      "[98, 99, 97, 99, 116, 102, 123, 98, 49, 53, 104, 48, 112, 115, 95, 52, 114, 51, 110, 55, 95, 107, 110, 49, 54, 104, 116, 53, 95, 51, 52, 106, 50, 49, 110, 100, 57, 50, 125]\n"
     ]
    }
   ],
   "source": [
    "# point system\n",
    "points= {\n",
    "    'p': 1,\n",
    "    'b' : 3,\n",
    "    'n': 3,\n",
    "    'r': 5,\n",
    "    'q': 9\n",
    "\n",
    "}\n",
    "def read_file(filename):\n",
    "    line_totals = []\n",
    "    with open(filename, 'r') as f:\n",
    "        for line in f:\n",
    "            total = 0\n",
    "            for i in line:\n",
    "                if i.isalpha():\n",
    "                    if i.lower() == 'p':\n",
    "                        total += 1\n",
    "                    elif i.lower() == 'b':\n",
    "                        total += 3\n",
    "                    elif i.lower() == 'n':\n",
    "                        total += 3\n",
    "                    elif i.lower() == 'r':\n",
    "                        total += 5\n",
    "                    elif i.lower() == 'q':\n",
    "                        total += 9\n",
    "            line_totals.append(total)\n",
    "    return line_totals\n",
    "\n",
    "print(read_file('src/FEN.txt'))"
   ]
  },
  {
   "cell_type": "code",
   "execution_count": null,
   "id": "ac8e6ba7",
   "metadata": {},
   "outputs": [],
   "source": []
  }
 ],
 "metadata": {
  "kernelspec": {
   "display_name": "Python 3",
   "language": "python",
   "name": "python3"
  },
  "language_info": {
   "codemirror_mode": {
    "name": "ipython",
    "version": 3
   },
   "file_extension": ".py",
   "mimetype": "text/x-python",
   "name": "python",
   "nbconvert_exporter": "python",
   "pygments_lexer": "ipython3",
   "version": "3.9.6"
  }
 },
 "nbformat": 4,
 "nbformat_minor": 5
}
